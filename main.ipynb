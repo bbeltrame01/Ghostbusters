{
 "cells": [
  {
   "cell_type": "code",
   "execution_count": null,
   "id": "ca5fb3c7",
   "metadata": {},
   "outputs": [],
   "source": [
    "import pygame\n",
    "import random\n",
    "import heapq"
   ]
  },
  {
   "cell_type": "code",
   "execution_count": null,
   "id": "781801c2",
   "metadata": {},
   "outputs": [],
   "source": [
    "# Definir algumas constantes\n",
    "LARGURA_TELA = 800\n",
    "ALTURA_TELA = 800\n",
    "TAMANHO_CELULA = 10\n",
    "LINHAS = LARGURA_TELA // TAMANHO_CELULA\n",
    "COLUNAS = ALTURA_TELA // TAMANHO_CELULA\n",
    "RAIO_RADAR = 10\n",
    "QUANTIDADE_FANTASMAS = 50"
   ]
  },
  {
   "cell_type": "code",
   "execution_count": null,
   "id": "d69af70a",
   "metadata": {},
   "outputs": [],
   "source": [
    "# Pesos dos terrenos\n",
    "PESOS = {'G': 1, 'A': 5, 'M': 10}"
   ]
  },
  {
   "cell_type": "code",
   "execution_count": null,
   "id": "528c35d6",
   "metadata": {},
   "outputs": [],
   "source": [
    "# Definir cores\n",
    "CINZA = (169, 169, 169)\n",
    "VERDE = (34, 177, 76)\n",
    "AZUL = (0, 0, 255)\n",
    "MARRON = (139, 69, 19)\n",
    "BRANCO = (255, 255, 255)\n",
    "AMARELO = (255, 255, 0)"
   ]
  },
  {
   "cell_type": "code",
   "execution_count": null,
   "id": "116736a7",
   "metadata": {
    "lines_to_next_cell": 1
   },
   "outputs": [],
   "source": [
    "# Inicializar o Pygame\n",
    "pygame.init()\n",
    "tela = pygame.display.set_mode((LARGURA_TELA, ALTURA_TELA))\n",
    "pygame.display.set_caption(\"Caça-Fantasmas\")"
   ]
  },
  {
   "cell_type": "code",
   "execution_count": null,
   "id": "ee7b1548",
   "metadata": {
    "lines_to_next_cell": 1
   },
   "outputs": [],
   "source": [
    "# Gerar o mapa\n",
    "def gerar_mapa(linhas, colunas):\n",
    "  tipos_terreno = ['G', 'A', 'M']\n",
    "  mapa = []\n",
    "  for _ in range(linhas):\n",
    "    linha = [random.choice(tipos_terreno) for _ in range(colunas)]\n",
    "    mapa.append(linha)\n",
    "  return mapa"
   ]
  },
  {
   "cell_type": "code",
   "execution_count": null,
   "id": "5ca9e937",
   "metadata": {
    "lines_to_next_cell": 1
   },
   "outputs": [],
   "source": [
    "# Função para desenhar o mapa\n",
    "def draw_map(mapa, jogador_pos, fantasmas):\n",
    "  # Desenhar o mapa\n",
    "  for i in range(len(mapa)):\n",
    "    for j in range(len(mapa[i])):\n",
    "      terreno = mapa[i][j]\n",
    "      if terreno == 'G':\n",
    "        cor = VERDE\n",
    "      elif terreno == 'A':\n",
    "        cor = AZUL\n",
    "      elif terreno == 'M':\n",
    "        cor = MARRON\n",
    "      pygame.draw.rect(tela, cor, (j * TAMANHO_CELULA, i * TAMANHO_CELULA, TAMANHO_CELULA, TAMANHO_CELULA))\n",
    "  \n",
    "  # Desenhar os fantasmas\n",
    "    for fantasma in fantasmas:\n",
    "      x, y = fantasma\n",
    "      pygame.draw.rect(tela, BRANCO, (x * TAMANHO_CELULA, y * TAMANHO_CELULA, TAMANHO_CELULA, TAMANHO_CELULA))\n",
    "\n",
    "  # Desenhar o jogador\n",
    "  x, y = jogador_pos\n",
    "  pygame.draw.rect(tela, AMARELO, (x * TAMANHO_CELULA, y * TAMANHO_CELULA, TAMANHO_CELULA, TAMANHO_CELULA))"
   ]
  },
  {
   "cell_type": "code",
   "execution_count": null,
   "id": "14a37187",
   "metadata": {
    "lines_to_next_cell": 1
   },
   "outputs": [],
   "source": [
    "# Função para gerar os fantasmas\n",
    "def gerar_fantasmas(qtd, linhas, colunas):\n",
    "  fantasmas = set()\n",
    "  while len(fantasmas) < qtd:\n",
    "    x, y = random.randint(0, colunas - 1), random.randint(0, linhas - 1)\n",
    "    fantasmas.add((x, y))\n",
    "  return fantasmas"
   ]
  },
  {
   "cell_type": "code",
   "execution_count": null,
   "id": "df6e4bd8",
   "metadata": {
    "lines_to_next_cell": 1
   },
   "outputs": [],
   "source": [
    "# Radar do jogador\n",
    "def radar(jogador_pos, fantasmas, raio):\n",
    "  x, y = jogador_pos\n",
    "  visiveis = []\n",
    "  for dx in range(-raio, raio + 1):\n",
    "    for dy in range(-raio, raio + 1):\n",
    "      if (x + dx, y + dy) in fantasmas:\n",
    "        visiveis.append((x + dx, y + dy))\n",
    "  return visiveis"
   ]
  },
  {
   "cell_type": "code",
   "execution_count": null,
   "id": "0b339ec4",
   "metadata": {
    "lines_to_next_cell": 1
   },
   "outputs": [],
   "source": [
    "# Distância de Manhattan\n",
    "def heuristica(a, b):\n",
    "  return abs(b[0] - a[0]) + abs(b[1] - a[1])"
   ]
  },
  {
   "cell_type": "code",
   "execution_count": null,
   "id": "e7c9eb50",
   "metadata": {
    "lines_to_next_cell": 1
   },
   "outputs": [],
   "source": [
    "# Algoritmo A* para encontrar o caminho menos custoso\n",
    "def a_star(mapa, inicio, final):  \n",
    "  fila = []\n",
    "  heapq.heappush(fila, (0, inicio))\n",
    "  custos = {inicio: 0}\n",
    "  caminhos = {inicio: None}\n",
    "\n",
    "  while fila:\n",
    "    _, atual = heapq.heappop(fila)\n",
    "    \n",
    "    if atual == final:\n",
    "      caminho = []\n",
    "      while atual:\n",
    "        caminho.append(atual)\n",
    "        atual = caminhos[atual]\n",
    "      return caminho[::-1]  # Retorna o caminho na ordem correta\n",
    "\n",
    "    x, y = atual\n",
    "    for dx, dy in [(-1, 0), (1, 0), (0, -1), (0, 1)]:  # Movimentos possíveis\n",
    "      nx, ny = x + dx, y + dy\n",
    "      if 0 <= nx < COLUNAS and 0 <= ny < LINHAS:  # Dentro do mapa\n",
    "        novo_custo = custos[atual] + PESOS[mapa[ny][nx]]\n",
    "        if (nx, ny) not in custos or novo_custo < custos[(nx, ny)]:\n",
    "          custos[(nx, ny)] = novo_custo\n",
    "          prioridade = novo_custo + heuristica((nx, ny), final)\n",
    "          heapq.heappush(fila, (prioridade, (nx, ny)))\n",
    "          caminhos[(nx, ny)] = atual\n",
    "    \n",
    "  # Caso não encontre um caminho\n",
    "  return None"
   ]
  },
  {
   "cell_type": "code",
   "execution_count": null,
   "id": "2809323f",
   "metadata": {
    "lines_to_next_cell": 1
   },
   "outputs": [],
   "source": [
    "# Função principal para rodar o jogo\n",
    "def jogo():\n",
    "  mapa = gerar_mapa(LINHAS, COLUNAS)\n",
    "  fantasmas = gerar_fantasmas(QUANTIDADE_FANTASMAS, LINHAS, COLUNAS)\n",
    "  jogador_pos = (random.randint(0, COLUNAS - 1), random.randint(0, LINHAS - 1))\n",
    "  running = True\n",
    "  while running:\n",
    "    tela.fill(CINZA)\n",
    "    draw_map(mapa, jogador_pos, fantasmas)\n",
    "    \n",
    "    pygame.display.update()\n",
    "    \n",
    "    for event in pygame.event.get():\n",
    "      if event.type == pygame.QUIT:\n",
    "        running = False\n",
    "\n",
    "    # Radar para detectar fantasmas próximos\n",
    "    fantasmas_visiveis = radar(jogador_pos, fantasmas, RAIO_RADAR)\n",
    "\n",
    "    if fantasmas_visiveis:\n",
    "      # Selecionar o fantasma mais próximo como alvo\n",
    "      menor_distancia = float('inf')\n",
    "      alvo = None\n",
    "\n",
    "      for fantasma in fantasmas_visiveis:\n",
    "        distancia = heuristica(jogador_pos, fantasma)\n",
    "        if distancia < menor_distancia:\n",
    "          menor_distancia = distancia\n",
    "          alvo = fantasma\n",
    "\n",
    "      caminho = a_star(mapa, jogador_pos, alvo)\n",
    "      if caminho and len(caminho) > 1:\n",
    "        jogador_pos = caminho[1]  # Move para a próxima célula do caminho\n",
    "        if jogador_pos == alvo:\n",
    "          fantasmas.remove(alvo)  # Remove o fantasma capturado\n",
    "    else:\n",
    "      # Movimento aleatório se nenhum fantasma estiver visível\n",
    "      dx, dy = random.choice([(-1, 0), (1, 0), (0, -1), (0, 1)])\n",
    "      novo_x, novo_y = jogador_pos[0] + dx, jogador_pos[1] + dy\n",
    "      if 0 <= novo_x < COLUNAS and 0 <= novo_y < LINHAS:\n",
    "        jogador_pos = (novo_x, novo_y)\n",
    "\n",
    "    if not fantasmas:\n",
    "      print(\"Todos os fantasmas foram capturados!\")\n",
    "      running = False"
   ]
  },
  {
   "cell_type": "code",
   "execution_count": null,
   "id": "315ba55d",
   "metadata": {},
   "outputs": [],
   "source": [
    "# Rodar o jogo\n",
    "if __name__ == \"__main__\":\n",
    "    jogo()\n",
    "    pygame.quit()"
   ]
  }
 ],
 "metadata": {
  "jupytext": {
   "cell_metadata_filter": "-all",
   "main_language": "python",
   "notebook_metadata_filter": "-all"
  }
 },
 "nbformat": 4,
 "nbformat_minor": 5
}
